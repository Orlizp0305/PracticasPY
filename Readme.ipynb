{
 "cells": [
  {
   "cell_type": "markdown",
   "id": "b0bce194-fa86-4b6e-ab9d-1a6fd1b19e42",
   "metadata": {},
   "source": [
    "# [Programas que el maestro solicito realizar](https://github.com/Orlizp0305/PracticasPY.git).\n",
    "![Imagen](https://th.bing.com/th/id/OIP.mufQwqN8RibS6lj2FZBoFAHaHY?rs=1&pid=ImgDetMain)\n",
    "\n",
    "### 1. Odd or even\n",
    "### 2. Mad Libs Game\n",
    "### 3. Word Count\n",
    "### 4. Biography info\n",
    "### 5. What's my acronym?\n",
    "### 6. Rock, Paper, Scissors\n",
    "### 7. Guess the number\n",
    "### 8. Is a palindrome\n",
    "### 9. Calculate the tip\n",
    "### 10. Email slicer\n",
    "### 11. Lyrics generator\n",
    "\n",
    "\n"
   ]
  },
  {
   "cell_type": "code",
   "execution_count": null,
   "id": "52809cf3-05cd-4016-bc26-c7aa73cecc04",
   "metadata": {},
   "outputs": [],
   "source": [
    "bandera=True\n",
    "while bandera==True:\n",
    "    nom= input(\"Ingresa tu nombre:\")\n",
    "    if nom.isalpha():\n",
    "        print(\"Contesta la siguiente pregunta\",\"\\n\")\n",
    "        bandera= False\n",
    "    else:\n",
    "        print(\"captura letras solamente\")\n",
    "\n",
    "fecha= input(\"Captura fecha de nacimiento\")\n",
    "dire= input(\"Captura tu direccion\")\n",
    "logro=input(\"Captura alguna meta que tengas\")\n",
    "\n",
    "print(\"-Nombre:\",nom)\n",
    "print(\"-Tu fecha es:\",fecha)\n",
    "print(\"-Tu direccion es:\",dire)\n",
    "print(\"-Tu meta enn la vida es \",logro)\n",
    "\n"
   ]
  },
  {
   "cell_type": "code",
   "execution_count": null,
   "id": "e32642f4-64ef-4fe9-a206-fca6308b54c0",
   "metadata": {},
   "outputs": [],
   "source": [
    "cuenta = float(input(\"¿Cuánto es la cuenta? \"))\n",
    "propina = input(\"¿Cuánto vamos a dejar de propina?\\n 1) 18%\\n 2) 20%\\n 3) 25%\\n\")\n",
    "\n",
    "if propina == '1':\n",
    "    porcentaje = 0.18\n",
    "elif propina == '2':\n",
    "    porcentaje = 0.20\n",
    "elif propina == '3':\n",
    "    porcentaje = 0.25\n",
    "else:\n",
    "    print(\"Eligue una opcion valida\")\n",
    "    exit()  \n",
    "\n",
    "propinaC = cuenta * porcentaje\n",
    "totalF=propinaC+cuenta\n",
    "\n",
    "print(\"El total a pagar es de\", totalF,\"Con propina del:\",porcentaje,\"%\",\"Su cuenta sin propina es de \",cuenta)"
   ]
  },
  {
   "cell_type": "code",
   "execution_count": null,
   "id": "96936018-405d-41e8-8228-83c75b333333",
   "metadata": {},
   "outputs": [],
   "source": [
    "correo = input(\"ingresa tu correo electronico:  \").strip()\n",
    "usuario= correo[:correo.index('@')]\n",
    "dominio = correo[correo.index('@')+1:]\n",
    "if dominio == \"gmail.com\":\n",
    "    dom = \"tu dominio es de google\"\n",
    "elif dominio == \"yahoo.com\":\n",
    "    dom = \"tu dominio es de yahoo\"\n",
    "elif dominio == \"hotmail.com\":\n",
    "    dom = \"tu dominio es de microsoft\"\n",
    "else:\n",
    "    dom = \"tu dominio es perzonalizado\"\n",
    "resultado = \"Tu nombre de ususario es: \"+usuario+\"\\nTu dominio es: \"+dominio+\" \"+dom\n",
    "print(resultado)"
   ]
  },
  {
   "cell_type": "code",
   "execution_count": null,
   "id": "ff55cc59-f59f-4b83-bc5e-774c93f47ff2",
   "metadata": {},
   "outputs": [],
   "source": [
    "\n",
    "import random\n",
    "\n",
    "numero = random.randrange(1,50)\n",
    "pregunta = int(input(\"Adivinna un numero entre 1 - 50:  \"))\n",
    "\n",
    "while pregunta != numero:\n",
    "    if (pregunta < numero):\n",
    "        print(\"Elije un numero mas alto. Intentalo otra vez\")\n",
    "        pregunta = int(input(\"\\nAdivina un numero entre 1 - 50:  \"))\n",
    "    else:\n",
    "        print(\"Elije un numero mas bajo. Intentalo otra vez\")\n",
    "        pregunta = int(input(\"\\nAdivina un numero entre 1 - 50:  \"))\n",
    "print(\"Adivinaste el numero\")"
   ]
  },
  {
   "cell_type": "code",
   "execution_count": null,
   "id": "39c1d548-aa87-4565-b583-19d4d51fc62b",
   "metadata": {},
   "outputs": [],
   "source": [
    "def es_Palindromo(palabra):\n",
    "    return palabra == palabra[::-1]\n",
    "\n",
    "palabras = []\n",
    "for i in range(5):\n",
    "    palabra = input(f\"Ingrese la palabra #{i + 1}: \")\n",
    "    palabras.append(palabra.lower()) \n",
    "\n",
    "palindromos = []\n",
    "no_Palindromos = []\n",
    "for palabra in palabras:\n",
    "    if es_Palindromo(palabra):\n",
    "        palindromos.append(palabra)\n",
    "    else:\n",
    "        no_Palindromos.append(palabra)\n",
    "\n",
    "print(\"\\nPalíndromos:\")\n",
    "for palindromos in palindromos:\n",
    "    print(palindromos)\n",
    "\n",
    "print(\"\\nNo palíndromos:\")\n",
    "for no_Palindromos in no_Palindromos:\n",
    "    print(no_Palindromos)"
   ]
  },
  {
   "cell_type": "code",
   "execution_count": null,
   "id": "2529ff07-4b5f-4e90-ac7b-4e36c5a5982f",
   "metadata": {},
   "outputs": [],
   "source": [
    "import lyrics\n",
    "\n",
    "cancion = {\n",
    "    \"Natanael Cano - O mevoy o te vas\": lyrics.o_me_voy_o_te_vas,\n",
    "    \"Natanael Cano - Amor tumbado\": lyrics.amor_Tumbado_letra,\n",
    "    \"Natanael Cano - Mi bello angel\": lyrics.mi_Bello_Angel,\n",
    "    \"Natanael Cano - Morritas\": lyrics.morritas,\n",
    "    \"Natanael Cano- Diamantes\": lyrics.diamantes,\n",
    "    \"Natanael Cano- Brillo\": lyrics.brillo,\n",
    "    \"Natanael Cano - Gracias\": lyrics.gracias,\n",
    "    \"Natanael Cano - Carnal\": lyrics.carnal,\n",
    "    \"Natanael Cano - Ella!\": lyrics.ella,\n",
    "    \"Natanael Cano - PCR\": lyrics.pcr,  \n",
    "}\n",
    "\n",
    "print(\"Lista de canciones:\")\n",
    "for i, can in enumerate(cancion, 1):\n",
    "    print(f\"{i}. {can}\")\n",
    "\n",
    "opc = int(input(\"Elige una canción (1-10): \"))\n",
    "\n",
    "if opc < 1 or opc > 10:\n",
    "    print(\"Opción inválida\")\n",
    "else:\n",
    "  cancionT = list(cancion.keys())[opc-1]\n",
    "  cancionL = cancion[cancionT]\n",
    "    \n",
    "  print(f\"\\nElejiste: '{cancionT}' Aqui tienes. \\n  {cancionT} \\n{cancionL}\")"
   ]
  },
  {
   "cell_type": "code",
   "execution_count": null,
   "id": "2cca7b1a-bbe7-41b1-9827-99152756835d",
   "metadata": {},
   "outputs": [],
   "source": [
    "\n",
    "color = input(\"Ingresa un color: \")\n",
    "marca = input(\"Ingresa una marca de carro: \")\n",
    "nombre = input(\"Ingresa el tu nombre: \")\n",
    "\n",
    "print(\"El carro es\", color, \"fabricado por la marca\",marca,\"Y mi nombre es\",nombre)\n"
   ]
  },
  {
   "cell_type": "code",
   "execution_count": null,
   "id": "6846f40b-ef2e-4231-9e84-4ab68e1decaa",
   "metadata": {},
   "outputs": [],
   "source": [
    "def creaA(frase):\n",
    "    palabras = frase.split()\n",
    "    acronimo = \"\"\n",
    "    for palabra in palabras:\n",
    "        \n",
    "        acronimo += palabra[0].upper()\n",
    "    return acronimo\n",
    "\n",
    "frase = input(\"Ingresa una frase: \")\n",
    "acr = creaA(frase)\n",
    "print(\"El acrónimo es:\", acr)"
   ]
  },
  {
   "cell_type": "code",
   "execution_count": null,
   "id": "e318d688-395e-4197-b29e-4b2211f07e58",
   "metadata": {},
   "outputs": [],
   "source": [
    "num = int(input(\"Ingrese un número: \"))\n",
    "if num % 2 == 0:\n",
    "    print(num, \"es par.\")\n",
    "else:\n",
    "    print(num, \"es impar.\")"
   ]
  },
  {
   "cell_type": "code",
   "execution_count": null,
   "id": "88932af6-2a26-4bfb-a3ab-b2fb69ee1b77",
   "metadata": {},
   "outputs": [],
   "source": [
    "import random\n",
    "\n",
    "def juego(user):\n",
    "    opccion = [\"piedra\", \"papel\", \"tijeras\"]\n",
    "    pc = random.choice(opccion)\n",
    "    print(\"Tu elección:\", user)\n",
    "    print(\"Elección de la computadora:\", pc)\n",
    "    if user == pc:\n",
    "        print(\"¡Empate!\")\n",
    "    elif (user == \"piedra\" and pc == \"tijeras\") or \\\n",
    "         (user == \"papel\" and pc == \"piedra\") or \\\n",
    "         (user == \"tijeras\" and pc == \"papel\"):\n",
    "        print(\"¡Ganaste!\")\n",
    "    else:\n",
    "        print(\"¡Perdiste!\")\n",
    "        \n",
    "user = input(\"Elige piedra, papel o tijeras: \").lower()\n",
    "if user in [\"piedra\", \"papel\", \"tijeras\"]:\n",
    "    juego(user)"
   ]
  },
  {
   "cell_type": "code",
   "execution_count": null,
   "id": "95dd6584-4e8b-448e-9f82-822fca31fd08",
   "metadata": {},
   "outputs": [],
   "source": [
    "frase = input(\"Ingresa una frace:  \")\n",
    "palabra = frase.split()\n",
    "contadorP = len(palabra)\n",
    "print(\"Tu frase contiene\",contadorP,\" palabras\")"
   ]
  }
 ],
 "metadata": {
  "kernelspec": {
   "display_name": "Python 3 (ipykernel)",
   "language": "python",
   "name": "python3"
  },
  "language_info": {
   "codemirror_mode": {
    "name": "ipython",
    "version": 3
   },
   "file_extension": ".py",
   "mimetype": "text/x-python",
   "name": "python",
   "nbconvert_exporter": "python",
   "pygments_lexer": "ipython3",
   "version": "3.12.2"
  }
 },
 "nbformat": 4,
 "nbformat_minor": 5
}
